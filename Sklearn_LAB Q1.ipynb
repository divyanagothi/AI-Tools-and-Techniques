{
 "cells": [
  {
   "cell_type": "code",
   "execution_count": 1,
   "metadata": {},
   "outputs": [],
   "source": [
    "import numpy as np\n",
    "from matplotlib import pyplot as plt\n",
    "import pandas as pd\n",
    "from sklearn.linear_model import LinearRegression"
   ]
  },
  {
   "cell_type": "code",
   "execution_count": 11,
   "metadata": {},
   "outputs": [
    {
     "name": "stdout",
     "output_type": "stream",
     "text": [
      "(97, 2)\n"
     ]
    }
   ],
   "source": [
    "data=pd.read_csv(\"profitdataset.txt\")\n",
    "print(data.shape)"
   ]
  },
  {
   "cell_type": "code",
   "execution_count": 12,
   "metadata": {},
   "outputs": [],
   "source": [
    "x = data[['population']].values\n",
    "y = data[['profit']].values"
   ]
  },
  {
   "cell_type": "code",
   "execution_count": 13,
   "metadata": {},
   "outputs": [
    {
     "data": {
      "image/png": "[encoded data removed]",
      "text/plain": [
       "<Figure size 432x288 with 1 Axes>"
      ]
     },
     "metadata": {
      "needs_background": "light"
     },
     "output_type": "display_data"
    }
   ],
   "source": [
    "#plot the data values\n",
    "plt.scatter(x,y,40,c='r',label='scatter_plot',marker='o')\n",
    "plt.xlabel(\"population\")\n",
    "plt.ylabel('profit')\n",
    "plt.title(\"food_truck_profit_graph\")\n",
    "plt.show()"
   ]
  },
  {
   "cell_type": "code",
   "execution_count": 14,
   "metadata": {},
   "outputs": [],
   "source": [
    "k=LinearRegression()"
   ]
  },
  {
   "cell_type": "code",
   "execution_count": 15,
   "metadata": {},
   "outputs": [
    {
     "data": {
      "text/plain": [
       "LinearRegression()"
      ]
     },
     "execution_count": 15,
     "metadata": {},
     "output_type": "execute_result"
    }
   ],
   "source": [
    "k.fit(x,y)"
   ]
  },
  {
   "cell_type": "code",
   "execution_count": 16,
   "metadata": {},
   "outputs": [
    {
     "name": "stdout",
     "output_type": "stream",
     "text": [
      "m values: [[1.19303364]]\n"
     ]
    }
   ],
   "source": [
    "#y=m*x+c\n",
    "print(\"m values:\",k.coef_)"
   ]
  },
  {
   "cell_type": "code",
   "execution_count": 17,
   "metadata": {},
   "outputs": [
    {
     "name": "stdout",
     "output_type": "stream",
     "text": [
      "c values: [-3.89578088]\n"
     ]
    }
   ],
   "source": [
    "print(\"c values:\",k.intercept_)"
   ]
  },
  {
   "cell_type": "code",
   "execution_count": 18,
   "metadata": {},
   "outputs": [
    {
     "data": {
      "text/plain": [
       "array([[ 3.39377399],\n",
       "       [ 2.6989512 ],\n",
       "       [ 6.26719552],\n",
       "       [ 4.45927234],\n",
       "       [ 3.09515767],\n",
       "       [ 6.10530086],\n",
       "       [ 5.02381586],\n",
       "       [ 6.33818102],\n",
       "       [ 3.84247394],\n",
       "       [ 2.13452698],\n",
       "       [ 2.91727635],\n",
       "       [13.00234766],\n",
       "       [ 2.94507404],\n",
       "       [ 6.13572322],\n",
       "       [ 2.833764  ],\n",
       "       [ 2.52202431],\n",
       "       [ 3.69835548],\n",
       "       [ 2.22460102],\n",
       "       [ 3.77494824],\n",
       "       [ 4.53992141],\n",
       "       [ 3.48802365],\n",
       "       [20.28701109],\n",
       "       [ 2.65409313],\n",
       "       [ 3.65146926],\n",
       "       [ 2.74333205],\n",
       "       [18.70624151],\n",
       "       [11.40845471],\n",
       "       [ 9.17628876],\n",
       "       [11.82363042],\n",
       "       [22.59314512],\n",
       "       [ 2.37050903],\n",
       "       [ 3.96559502],\n",
       "       [ 7.13763287],\n",
       "       [ 3.13333475],\n",
       "       [ 5.90033768],\n",
       "       [ 5.56903223],\n",
       "       [ 5.7629002 ],\n",
       "       [ 2.79272364],\n",
       "       [11.41799898],\n",
       "       [ 3.68403908],\n",
       "       [ 2.55483273],\n",
       "       [ 4.31527318],\n",
       "       [10.07225703],\n",
       "       [ 2.99243747],\n",
       "       [ 5.43934948],\n",
       "       [ 4.56652606],\n",
       "       [ 2.1531383 ],\n",
       "       [ 3.02548451],\n",
       "       [10.06271276],\n",
       "       [ 2.71553436],\n",
       "       [ 5.09993141],\n",
       "       [ 2.43648379],\n",
       "       [ 4.96118159],\n",
       "       [ 5.17497322],\n",
       "       [ 3.65946258],\n",
       "       [ 3.69060076],\n",
       "       [ 3.58955081],\n",
       "       [ 2.83257096],\n",
       "       [ 7.21160096],\n",
       "       [ 7.38268198],\n",
       "       [ 6.63321825],\n",
       "       [ 2.28329828],\n",
       "       [21.49078204],\n",
       "       [13.88996469],\n",
       "       [18.72294398],\n",
       "       [ 4.71577457],\n",
       "       [ 6.0005525 ],\n",
       "       [ 8.3161115 ],\n",
       "       [ 2.66518834],\n",
       "       [20.37171648],\n",
       "       [ 8.19680814],\n",
       "       [ 4.85452438],\n",
       "       [ 3.2698178 ],\n",
       "       [ 4.72496093],\n",
       "       [ 2.10147995],\n",
       "       [ 3.91608412],\n",
       "       [ 5.09802255],\n",
       "       [ 2.11293307],\n",
       "       [ 8.36144678],\n",
       "       [ 2.19787707],\n",
       "       [ 2.93934748],\n",
       "       [ 2.29415488],\n",
       "       [ 3.68678305],\n",
       "       [ 7.75860688],\n",
       "       [ 3.87790704],\n",
       "       [ 6.26552528],\n",
       "       [ 7.05650658],\n",
       "       [ 3.26480705],\n",
       "       [ 2.69024205],\n",
       "       [ 2.14025354],\n",
       "       [ 2.91369725],\n",
       "       [ 5.21493985],\n",
       "       [ 3.10816174],\n",
       "       [ 2.43373982],\n",
       "       [ 5.99852435],\n",
       "       [12.08371175],\n",
       "       [ 2.59062374]])"
      ]
     },
     "execution_count": 18,
     "metadata": {},
     "output_type": "execute_result"
    }
   ],
   "source": [
    "y_pred=k.predict(x)\n",
    "y_pred"
   ]
  },
  {
   "cell_type": "code",
   "execution_count": 21,
   "metadata": {},
   "outputs": [
    {
     "data": {
      "image/png": "[encoded data removed]",
      "text/plain": [
       "<Figure size 432x288 with 1 Axes>"
      ]
     },
     "metadata": {
      "needs_background": "light"
     },
     "output_type": "display_data"
    }
   ],
   "source": [
    "#plot the regression line\n",
    "plt.plot(x,y_pred,color='m',label=\"regression_line\")\n",
    "#plot actual data\n",
    "plt.scatter(x,y,40,c='g',label=\"actual-data\",marker='o')\n",
    "plt.scatter(x,y_pred,40,c='k',label=\"predicted_data\",marker='x')\n",
    "plt.xlabel(\"population\")\n",
    "plt.ylabel(\"profit\")\n",
    "plt.legend()\n",
    "plt.show()"
   ]
  },
  {
   "cell_type": "code",
   "execution_count": 22,
   "metadata": {},
   "outputs": [
    {
     "data": {
      "text/plain": [
       "8.953942751950358"
      ]
     },
     "execution_count": 22,
     "metadata": {},
     "output_type": "execute_result"
    }
   ],
   "source": [
    "#cost function,mse\n",
    "from sklearn.metrics import mean_squared_error\n",
    "cost=mean_squared_error(y,y_pred)\n",
    "cost"
   ]
  },
  {
   "cell_type": "code",
   "execution_count": 23,
   "metadata": {},
   "outputs": [
    {
     "data": {
      "text/plain": [
       "0.7020315537841397"
      ]
     },
     "execution_count": 23,
     "metadata": {},
     "output_type": "execute_result"
    }
   ],
   "source": [
    "#good fit line r2 method\n",
    "from sklearn.metrics import r2_score\n",
    "r=r2_score(y,y_pred)\n",
    "r"
   ]
  },
  {
   "cell_type": "code",
   "execution_count": 24,
   "metadata": {},
   "outputs": [
    {
     "name": "stdout",
     "output_type": "stream",
     "text": [
      "profit from 45000 people city is [[14728.70520541]] $\n",
      "profit from 45000 people city is [[38589.37808921]] $\n"
     ]
    }
   ],
   "source": [
    "#predict the profit for city with 45000 and 65000 people\n",
    "a=4.5\n",
    "b=6.5\n",
    "print(\"profit from 45000 people city is\",k.predict([[a]])*10000,'$')\n",
    "print(\"profit from 45000 people city is\",k.predict([[b]])*10000,'$')"
   ]
  },
  {
   "cell_type": "code",
   "execution_count": null,
   "metadata": {},
   "outputs": [],
   "source": []
  }
 ],
 "metadata": {
  "kernelspec": {
   "display_name": "Python 3",
   "language": "python",
   "name": "python3"
  },
  "language_info": {
   "codemirror_mode": {
    "name": "ipython",
    "version": 3
   },
   "file_extension": ".py",
   "mimetype": "text/x-python",
   "name": "python",
   "nbconvert_exporter": "python",
   "pygments_lexer": "ipython3",
   "version": "3.8.3"
  }
 },
 "nbformat": 4,
 "nbformat_minor": 4
}
